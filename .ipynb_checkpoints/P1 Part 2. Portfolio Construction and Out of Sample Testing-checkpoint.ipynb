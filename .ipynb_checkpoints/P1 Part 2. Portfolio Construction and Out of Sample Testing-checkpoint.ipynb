{
 "cells": [
  {
   "cell_type": "code",
   "execution_count": 1,
   "metadata": {
    "collapsed": true
   },
   "outputs": [],
   "source": [
    "# Github: https://github.com/shoyasaxa/Stock-Portfolio-Project \n",
    "\n",
    "from pylab import plt\n",
    "plt.style.use('ggplot')\n",
    "import matplotlib as mpl\n",
    "import matplotlib.pyplot as plt\n",
    "%matplotlib inline\n",
    "mpl.rcParams['font.family'] = 'serif'\n",
    "import warnings; warnings.simplefilter('ignore')\n",
    "import scipy.stats as scs\n",
    "import statsmodels.api as sm\n",
    "import scipy.optimize as sco\n",
    "import numpy as np\n",
    "import pandas as pd\n",
    "import datetime as dt\n",
    "\n",
    "pd.options.mode.chained_assignment = None"
   ]
  },
  {
   "cell_type": "code",
   "execution_count": 2,
   "metadata": {
    "collapsed": true
   },
   "outputs": [],
   "source": [
    "stock_prices = pd.read_excel(\"Daily Stock Prices.xlsx\", index_col=0, parse_dates=True)"
   ]
  },
  {
   "cell_type": "code",
   "execution_count": 3,
   "metadata": {},
   "outputs": [
    {
     "data": {
      "text/html": [
       "<div>\n",
       "<style>\n",
       "    .dataframe thead tr:only-child th {\n",
       "        text-align: right;\n",
       "    }\n",
       "\n",
       "    .dataframe thead th {\n",
       "        text-align: left;\n",
       "    }\n",
       "\n",
       "    .dataframe tbody tr th {\n",
       "        vertical-align: top;\n",
       "    }\n",
       "</style>\n",
       "<table border=\"1\" class=\"dataframe\">\n",
       "  <thead>\n",
       "    <tr style=\"text-align: right;\">\n",
       "      <th></th>\n",
       "      <th>A</th>\n",
       "      <th>AA</th>\n",
       "      <th>AAC</th>\n",
       "      <th>AAL</th>\n",
       "      <th>AAME</th>\n",
       "      <th>AAON</th>\n",
       "      <th>AAP</th>\n",
       "      <th>AAPL</th>\n",
       "      <th>AAWW</th>\n",
       "      <th>ABAX</th>\n",
       "      <th>...</th>\n",
       "      <th>ZBB</th>\n",
       "      <th>ZBRA</th>\n",
       "      <th>ZEUS</th>\n",
       "      <th>ZHNE</th>\n",
       "      <th>ZION</th>\n",
       "      <th>ZIOP</th>\n",
       "      <th>ZIXI</th>\n",
       "      <th>ZMH</th>\n",
       "      <th>ZN</th>\n",
       "      <th>ZUMZ</th>\n",
       "    </tr>\n",
       "    <tr>\n",
       "      <th>date</th>\n",
       "      <th></th>\n",
       "      <th></th>\n",
       "      <th></th>\n",
       "      <th></th>\n",
       "      <th></th>\n",
       "      <th></th>\n",
       "      <th></th>\n",
       "      <th></th>\n",
       "      <th></th>\n",
       "      <th></th>\n",
       "      <th></th>\n",
       "      <th></th>\n",
       "      <th></th>\n",
       "      <th></th>\n",
       "      <th></th>\n",
       "      <th></th>\n",
       "      <th></th>\n",
       "      <th></th>\n",
       "      <th></th>\n",
       "      <th></th>\n",
       "      <th></th>\n",
       "    </tr>\n",
       "  </thead>\n",
       "  <tbody>\n",
       "    <tr>\n",
       "      <th>2010-01-04</th>\n",
       "      <td>22.65873</td>\n",
       "      <td>37.46254</td>\n",
       "      <td>150.0</td>\n",
       "      <td>NaN</td>\n",
       "      <td>1.32</td>\n",
       "      <td>5.922963</td>\n",
       "      <td>40.38</td>\n",
       "      <td>30.57286</td>\n",
       "      <td>38.20</td>\n",
       "      <td>24.90</td>\n",
       "      <td>...</td>\n",
       "      <td>6.0</td>\n",
       "      <td>28.67</td>\n",
       "      <td>33.85</td>\n",
       "      <td>10.7475</td>\n",
       "      <td>13.33</td>\n",
       "      <td>2.95</td>\n",
       "      <td>1.78</td>\n",
       "      <td>60.02</td>\n",
       "      <td>5.896733</td>\n",
       "      <td>12.36</td>\n",
       "    </tr>\n",
       "    <tr>\n",
       "      <th>2010-01-05</th>\n",
       "      <td>22.41260</td>\n",
       "      <td>36.29253</td>\n",
       "      <td>150.0</td>\n",
       "      <td>NaN</td>\n",
       "      <td>1.40</td>\n",
       "      <td>5.751111</td>\n",
       "      <td>40.14</td>\n",
       "      <td>30.62572</td>\n",
       "      <td>40.31</td>\n",
       "      <td>24.92</td>\n",
       "      <td>...</td>\n",
       "      <td>6.1</td>\n",
       "      <td>28.62</td>\n",
       "      <td>33.63</td>\n",
       "      <td>13.0000</td>\n",
       "      <td>13.80</td>\n",
       "      <td>3.05</td>\n",
       "      <td>1.70</td>\n",
       "      <td>61.92</td>\n",
       "      <td>5.806644</td>\n",
       "      <td>12.29</td>\n",
       "    </tr>\n",
       "  </tbody>\n",
       "</table>\n",
       "<p>2 rows × 2556 columns</p>\n",
       "</div>"
      ],
      "text/plain": [
       "                   A        AA    AAC  AAL  AAME      AAON    AAP      AAPL  \\\n",
       "date                                                                          \n",
       "2010-01-04  22.65873  37.46254  150.0  NaN  1.32  5.922963  40.38  30.57286   \n",
       "2010-01-05  22.41260  36.29253  150.0  NaN  1.40  5.751111  40.14  30.62572   \n",
       "\n",
       "             AAWW   ABAX  ...    ZBB   ZBRA   ZEUS     ZHNE   ZION  ZIOP  \\\n",
       "date                      ...                                              \n",
       "2010-01-04  38.20  24.90  ...    6.0  28.67  33.85  10.7475  13.33  2.95   \n",
       "2010-01-05  40.31  24.92  ...    6.1  28.62  33.63  13.0000  13.80  3.05   \n",
       "\n",
       "            ZIXI    ZMH        ZN   ZUMZ  \n",
       "date                                      \n",
       "2010-01-04  1.78  60.02  5.896733  12.36  \n",
       "2010-01-05  1.70  61.92  5.806644  12.29  \n",
       "\n",
       "[2 rows x 2556 columns]"
      ]
     },
     "execution_count": 3,
     "metadata": {},
     "output_type": "execute_result"
    }
   ],
   "source": [
    "stock_prices.head(2) "
   ]
  },
  {
   "cell_type": "code",
   "execution_count": 4,
   "metadata": {},
   "outputs": [
    {
     "data": {
      "text/html": [
       "<div>\n",
       "<style>\n",
       "    .dataframe thead tr:only-child th {\n",
       "        text-align: right;\n",
       "    }\n",
       "\n",
       "    .dataframe thead th {\n",
       "        text-align: left;\n",
       "    }\n",
       "\n",
       "    .dataframe tbody tr th {\n",
       "        vertical-align: top;\n",
       "    }\n",
       "</style>\n",
       "<table border=\"1\" class=\"dataframe\">\n",
       "  <thead>\n",
       "    <tr style=\"text-align: right;\">\n",
       "      <th></th>\n",
       "      <th>Ticker</th>\n",
       "    </tr>\n",
       "  </thead>\n",
       "  <tbody>\n",
       "    <tr>\n",
       "      <th>0</th>\n",
       "      <td>AZO</td>\n",
       "    </tr>\n",
       "    <tr>\n",
       "      <th>1</th>\n",
       "      <td>ODFL</td>\n",
       "    </tr>\n",
       "    <tr>\n",
       "      <th>2</th>\n",
       "      <td>AKRX</td>\n",
       "    </tr>\n",
       "    <tr>\n",
       "      <th>3</th>\n",
       "      <td>SHW</td>\n",
       "    </tr>\n",
       "    <tr>\n",
       "      <th>4</th>\n",
       "      <td>PII</td>\n",
       "    </tr>\n",
       "  </tbody>\n",
       "</table>\n",
       "</div>"
      ],
      "text/plain": [
       "  Ticker\n",
       "0    AZO\n",
       "1   ODFL\n",
       "2   AKRX\n",
       "3    SHW\n",
       "4    PII"
      ]
     },
     "metadata": {},
     "output_type": "display_data"
    }
   ],
   "source": [
    "stock_list_data = pd.read_excel(\"Final Stock Selections.xlsx\")\n",
    "display(stock_list_data.head())\n",
    "\n",
    "stock_list = stock_list_data[\"Ticker\"].values.tolist() "
   ]
  },
  {
   "cell_type": "code",
   "execution_count": 5,
   "metadata": {},
   "outputs": [
    {
     "data": {
      "text/html": [
       "<div>\n",
       "<style>\n",
       "    .dataframe thead tr:only-child th {\n",
       "        text-align: right;\n",
       "    }\n",
       "\n",
       "    .dataframe thead th {\n",
       "        text-align: left;\n",
       "    }\n",
       "\n",
       "    .dataframe tbody tr th {\n",
       "        vertical-align: top;\n",
       "    }\n",
       "</style>\n",
       "<table border=\"1\" class=\"dataframe\">\n",
       "  <thead>\n",
       "    <tr style=\"text-align: right;\">\n",
       "      <th></th>\n",
       "      <th>AZO</th>\n",
       "      <th>ODFL</th>\n",
       "      <th>AKRX</th>\n",
       "      <th>SHW</th>\n",
       "      <th>PII</th>\n",
       "      <th>MANH</th>\n",
       "      <th>HAIN</th>\n",
       "      <th>UNP</th>\n",
       "      <th>ALXN</th>\n",
       "      <th>VFC</th>\n",
       "      <th>...</th>\n",
       "      <th>COO</th>\n",
       "      <th>SBUX</th>\n",
       "      <th>FNF</th>\n",
       "      <th>DIS</th>\n",
       "      <th>VZ</th>\n",
       "      <th>T</th>\n",
       "      <th>AMZN</th>\n",
       "      <th>MSFT</th>\n",
       "      <th>NFLX</th>\n",
       "      <th>CBS</th>\n",
       "    </tr>\n",
       "    <tr>\n",
       "      <th>date</th>\n",
       "      <th></th>\n",
       "      <th></th>\n",
       "      <th></th>\n",
       "      <th></th>\n",
       "      <th></th>\n",
       "      <th></th>\n",
       "      <th></th>\n",
       "      <th></th>\n",
       "      <th></th>\n",
       "      <th></th>\n",
       "      <th></th>\n",
       "      <th></th>\n",
       "      <th></th>\n",
       "      <th></th>\n",
       "      <th></th>\n",
       "      <th></th>\n",
       "      <th></th>\n",
       "      <th></th>\n",
       "      <th></th>\n",
       "      <th></th>\n",
       "      <th></th>\n",
       "    </tr>\n",
       "  </thead>\n",
       "  <tbody>\n",
       "    <tr>\n",
       "      <th>2010-01-04</th>\n",
       "      <td>158.03</td>\n",
       "      <td>13.01778</td>\n",
       "      <td>1.87</td>\n",
       "      <td>61.67</td>\n",
       "      <td>22.115</td>\n",
       "      <td>6.2025</td>\n",
       "      <td>8.695</td>\n",
       "      <td>32.695</td>\n",
       "      <td>24.125</td>\n",
       "      <td>18.345</td>\n",
       "      <td>...</td>\n",
       "      <td>37.75</td>\n",
       "      <td>11.525</td>\n",
       "      <td>8.303291</td>\n",
       "      <td>32.07</td>\n",
       "      <td>31.22516</td>\n",
       "      <td>28.58</td>\n",
       "      <td>133.90</td>\n",
       "      <td>30.95</td>\n",
       "      <td>7.640000</td>\n",
       "      <td>14.25</td>\n",
       "    </tr>\n",
       "    <tr>\n",
       "      <th>2010-01-05</th>\n",
       "      <td>156.71</td>\n",
       "      <td>13.29778</td>\n",
       "      <td>1.82</td>\n",
       "      <td>60.21</td>\n",
       "      <td>22.125</td>\n",
       "      <td>6.1175</td>\n",
       "      <td>8.695</td>\n",
       "      <td>33.150</td>\n",
       "      <td>23.780</td>\n",
       "      <td>18.695</td>\n",
       "      <td>...</td>\n",
       "      <td>38.19</td>\n",
       "      <td>11.795</td>\n",
       "      <td>7.979945</td>\n",
       "      <td>31.99</td>\n",
       "      <td>31.28146</td>\n",
       "      <td>28.44</td>\n",
       "      <td>134.69</td>\n",
       "      <td>30.96</td>\n",
       "      <td>7.358571</td>\n",
       "      <td>14.18</td>\n",
       "    </tr>\n",
       "  </tbody>\n",
       "</table>\n",
       "<p>2 rows × 50 columns</p>\n",
       "</div>"
      ],
      "text/plain": [
       "               AZO      ODFL  AKRX    SHW     PII    MANH   HAIN     UNP  \\\n",
       "date                                                                       \n",
       "2010-01-04  158.03  13.01778  1.87  61.67  22.115  6.2025  8.695  32.695   \n",
       "2010-01-05  156.71  13.29778  1.82  60.21  22.125  6.1175  8.695  33.150   \n",
       "\n",
       "              ALXN     VFC  ...      COO    SBUX       FNF    DIS        VZ  \\\n",
       "date                        ...                                               \n",
       "2010-01-04  24.125  18.345  ...    37.75  11.525  8.303291  32.07  31.22516   \n",
       "2010-01-05  23.780  18.695  ...    38.19  11.795  7.979945  31.99  31.28146   \n",
       "\n",
       "                T    AMZN   MSFT      NFLX    CBS  \n",
       "date                                               \n",
       "2010-01-04  28.58  133.90  30.95  7.640000  14.25  \n",
       "2010-01-05  28.44  134.69  30.96  7.358571  14.18  \n",
       "\n",
       "[2 rows x 50 columns]"
      ]
     },
     "execution_count": 5,
     "metadata": {},
     "output_type": "execute_result"
    }
   ],
   "source": [
    "prices = stock_prices[stock_list]\n",
    "prices.head(2)"
   ]
  },
  {
   "cell_type": "code",
   "execution_count": 6,
   "metadata": {
    "collapsed": true
   },
   "outputs": [],
   "source": [
    "#prices.to_excel(\"Chosen Stock Prices.xlsx\")"
   ]
  },
  {
   "cell_type": "code",
   "execution_count": 7,
   "metadata": {
    "collapsed": true
   },
   "outputs": [],
   "source": [
    "num_assets = len(stock_list)\n",
    "returns = np.log(prices/prices.shift(1))\n",
    "future_returns = np.log(prices.shift(-1)/prices)\n",
    "rf = 0.0249 \n",
    "\n",
    "start = dt.datetime(2010,4,1)\n",
    "end = dt.datetime(2014,12,31)"
   ]
  },
  {
   "cell_type": "code",
   "execution_count": 8,
   "metadata": {
    "collapsed": true
   },
   "outputs": [],
   "source": [
    "roll_mu = returns.rolling(window=42).mean()*252 \n",
    "roll_sigma = returns.rolling(window=42).cov()*252"
   ]
  },
  {
   "cell_type": "code",
   "execution_count": 9,
   "metadata": {
    "collapsed": true
   },
   "outputs": [],
   "source": [
    "#display(future_returns.head(10))\n",
    "#display(future_returns.tail(10))"
   ]
  },
  {
   "cell_type": "code",
   "execution_count": 10,
   "metadata": {
    "collapsed": true
   },
   "outputs": [],
   "source": [
    "roll_mu_trade = roll_mu[start:end] \n",
    "roll_sigma_trade = roll_sigma[start:end] \n",
    "future_returns_trade = future_returns[start:end]\n",
    "\n",
    "dates_trade = roll_mu_trade.index\n",
    "\n",
    "# We will rebalance portfolio every month \n",
    "rebalance_time = 21\n",
    "n_trade = int(len(roll_mu_trade)/rebalance_time)  "
   ]
  },
  {
   "cell_type": "code",
   "execution_count": 11,
   "metadata": {
    "collapsed": true
   },
   "outputs": [],
   "source": [
    "roll_mu_trade = roll_mu_trade.fillna((roll_mu_trade.shift()+ roll_mu_trade.shift(-1))/2)\n",
    "future_returns_trade = future_returns_trade.fillna( (future_returns_trade.shift()+future_returns_trade.shift(-1)) /2)"
   ]
  },
  {
   "cell_type": "code",
   "execution_count": 12,
   "metadata": {
    "scrolled": true
   },
   "outputs": [
    {
     "data": {
      "text/html": [
       "<div>\n",
       "<style>\n",
       "    .dataframe thead tr:only-child th {\n",
       "        text-align: right;\n",
       "    }\n",
       "\n",
       "    .dataframe thead th {\n",
       "        text-align: left;\n",
       "    }\n",
       "\n",
       "    .dataframe tbody tr th {\n",
       "        vertical-align: top;\n",
       "    }\n",
       "</style>\n",
       "<table border=\"1\" class=\"dataframe\">\n",
       "  <thead>\n",
       "    <tr style=\"text-align: right;\">\n",
       "      <th></th>\n",
       "      <th>Portfolio Performance</th>\n",
       "    </tr>\n",
       "    <tr>\n",
       "      <th>date</th>\n",
       "      <th></th>\n",
       "    </tr>\n",
       "  </thead>\n",
       "  <tbody>\n",
       "    <tr>\n",
       "      <th>2010-04-01</th>\n",
       "      <td>NaN</td>\n",
       "    </tr>\n",
       "    <tr>\n",
       "      <th>2010-05-03</th>\n",
       "      <td>NaN</td>\n",
       "    </tr>\n",
       "  </tbody>\n",
       "</table>\n",
       "</div>"
      ],
      "text/plain": [
       "           Portfolio Performance\n",
       "date                            \n",
       "2010-04-01                   NaN\n",
       "2010-05-03                   NaN"
      ]
     },
     "execution_count": 12,
     "metadata": {},
     "output_type": "execute_result"
    }
   ],
   "source": [
    "weights_trade_raw =np.nan*roll_mu_trade\n",
    "weights_trade = weights_trade_raw.iloc[::rebalance_time, :]\n",
    "\n",
    "portfolio_returns=pd.DataFrame(index=dates_trade,columns=['Portfolio Performance']).iloc[::rebalance_time, :]\n",
    "portfolio_returns.head(2)"
   ]
  },
  {
   "cell_type": "code",
   "execution_count": 13,
   "metadata": {
    "collapsed": true
   },
   "outputs": [],
   "source": [
    "#weights_trade"
   ]
  },
  {
   "cell_type": "code",
   "execution_count": 14,
   "metadata": {
    "collapsed": true
   },
   "outputs": [],
   "source": [
    "def negative_sharpe(weights, mu, Sigma, riskfree):\n",
    "    weights = np.array(weights)\n",
    "    pret = np.dot(mu, weights)\n",
    "    pvol = np.sqrt(np.dot(weights.T, np.dot(Sigma, weights)))\n",
    "    return -(pret-riskfree)/pvol\n",
    "\n",
    "cons = ({'type': 'eq', 'fun': lambda x:  np.sum(x) - 1}, {'type':'ineq','fun': lambda x: 0.2 - x})\n",
    "bnds = tuple((0, 1) for x in range(num_assets))\n",
    "initial_guess=num_assets * [1. / num_assets,]"
   ]
  },
  {
   "cell_type": "code",
   "execution_count": 15,
   "metadata": {
    "collapsed": true,
    "scrolled": false
   },
   "outputs": [],
   "source": [
    "for t in range(n_trade): \n",
    "    # get an average of the expected returns for each stock for that month\n",
    "    mu_month = roll_mu_trade.iloc[t*rebalance_time:(t+1)*rebalance_time].mean() \n",
    "    \n",
    "    # just use the month's last day's covariance matrix since it is a moving average anyways \n",
    "    sigma_month = roll_sigma_trade.iloc[(t+1)*rebalance_time*num_assets-num_assets:(t+1)*rebalance_time*num_assets]\n",
    "    \n",
    "    parameter_input=(mu_month,sigma_month,rf)\n",
    "    \n",
    "    weights_trade.iloc[t]=sco.minimize(negative_sharpe,initial_guess,args=parameter_input,bounds=bnds,constraints=cons)['x']\n",
    "    \n",
    "    future_returns_month = future_returns_trade.iloc[t*rebalance_time:(t+1)*rebalance_time]\n",
    "    cumulative_month_return_df = (1+ future_returns_month).cumprod() - 1  \n",
    "    cumulative_future_return = cumulative_month_return_df.iloc[-1]\n",
    "    \n",
    "    portfolio_returns.iloc[t]=np.dot(weights_trade.iloc[t],cumulative_future_return)\n",
    "    "
   ]
  },
  {
   "cell_type": "code",
   "execution_count": 16,
   "metadata": {
    "scrolled": true
   },
   "outputs": [
    {
     "name": "stdout",
     "output_type": "stream",
     "text": [
      "<class 'pandas.core.frame.DataFrame'>\n",
      "DatetimeIndex: 54 entries, 2010-04-01 to 2014-12-01\n",
      "Data columns (total 1 columns):\n",
      "Portfolio Performance    54 non-null object\n",
      "dtypes: object(1)\n",
      "memory usage: 864.0+ bytes\n"
     ]
    },
    {
     "data": {
      "text/html": [
       "<div>\n",
       "<style>\n",
       "    .dataframe thead tr:only-child th {\n",
       "        text-align: right;\n",
       "    }\n",
       "\n",
       "    .dataframe thead th {\n",
       "        text-align: left;\n",
       "    }\n",
       "\n",
       "    .dataframe tbody tr th {\n",
       "        vertical-align: top;\n",
       "    }\n",
       "</style>\n",
       "<table border=\"1\" class=\"dataframe\">\n",
       "  <thead>\n",
       "    <tr style=\"text-align: right;\">\n",
       "      <th></th>\n",
       "      <th>Portfolio Performance</th>\n",
       "    </tr>\n",
       "    <tr>\n",
       "      <th>date</th>\n",
       "      <th></th>\n",
       "    </tr>\n",
       "  </thead>\n",
       "  <tbody>\n",
       "    <tr>\n",
       "      <th>2010-04-01</th>\n",
       "      <td>0.0725131</td>\n",
       "    </tr>\n",
       "    <tr>\n",
       "      <th>2010-05-03</th>\n",
       "      <td>0.0938405</td>\n",
       "    </tr>\n",
       "    <tr>\n",
       "      <th>2010-06-02</th>\n",
       "      <td>-0.0310461</td>\n",
       "    </tr>\n",
       "    <tr>\n",
       "      <th>2010-07-01</th>\n",
       "      <td>0.0375318</td>\n",
       "    </tr>\n",
       "    <tr>\n",
       "      <th>2010-08-02</th>\n",
       "      <td>0.0136829</td>\n",
       "    </tr>\n",
       "  </tbody>\n",
       "</table>\n",
       "</div>"
      ],
      "text/plain": [
       "           Portfolio Performance\n",
       "date                            \n",
       "2010-04-01             0.0725131\n",
       "2010-05-03             0.0938405\n",
       "2010-06-02            -0.0310461\n",
       "2010-07-01             0.0375318\n",
       "2010-08-02             0.0136829"
      ]
     },
     "metadata": {},
     "output_type": "display_data"
    },
    {
     "data": {
      "text/html": [
       "<div>\n",
       "<style>\n",
       "    .dataframe thead tr:only-child th {\n",
       "        text-align: right;\n",
       "    }\n",
       "\n",
       "    .dataframe thead th {\n",
       "        text-align: left;\n",
       "    }\n",
       "\n",
       "    .dataframe tbody tr th {\n",
       "        vertical-align: top;\n",
       "    }\n",
       "</style>\n",
       "<table border=\"1\" class=\"dataframe\">\n",
       "  <thead>\n",
       "    <tr style=\"text-align: right;\">\n",
       "      <th></th>\n",
       "      <th>Portfolio Performance</th>\n",
       "    </tr>\n",
       "  </thead>\n",
       "  <tbody>\n",
       "    <tr>\n",
       "      <th>count</th>\n",
       "      <td>54.000000</td>\n",
       "    </tr>\n",
       "    <tr>\n",
       "      <th>unique</th>\n",
       "      <td>54.000000</td>\n",
       "    </tr>\n",
       "    <tr>\n",
       "      <th>top</th>\n",
       "      <td>0.037532</td>\n",
       "    </tr>\n",
       "    <tr>\n",
       "      <th>freq</th>\n",
       "      <td>1.000000</td>\n",
       "    </tr>\n",
       "  </tbody>\n",
       "</table>\n",
       "</div>"
      ],
      "text/plain": [
       "        Portfolio Performance\n",
       "count               54.000000\n",
       "unique              54.000000\n",
       "top                  0.037532\n",
       "freq                 1.000000"
      ]
     },
     "execution_count": 16,
     "metadata": {},
     "output_type": "execute_result"
    },
    {
     "data": {
      "image/png": "[encoded data removed]",
      "text/plain": [
       "<matplotlib.figure.Figure at 0x1c2f2134048>"
      ]
     },
     "metadata": {},
     "output_type": "display_data"
    }
   ],
   "source": [
    "# Code below is what the class code had, but it would be more appropriate to use cumprod to compound the returns\n",
    "#portfolio_returns.cumsum().plot() \n",
    "\n",
    "cumulative_portfolio_returns = (1+portfolio_returns).cumprod() - 1 \n",
    "cumulative_portfolio_returns.plot() \n",
    "\n",
    "portfolio_returns.dropna(inplace=True)\n",
    "#portfolio_returns['Port_performance']=pd.to_numeric(portfolio_returns['Portfolio Performance'])\n",
    "portfolio_returns.info()\n",
    "display(portfolio_returns.head())\n",
    "portfolio_returns.describe()"
   ]
  },
  {
   "cell_type": "code",
   "execution_count": 17,
   "metadata": {},
   "outputs": [
    {
     "name": "stdout",
     "output_type": "stream",
     "text": [
      "Our Portfolio made 10.810970005152809x return in the testing period from 2010 to 2014\n"
     ]
    }
   ],
   "source": [
    "print(\"Our Portfolio made {}x return in the testing period from 2010 to 2014\".format(cumulative_portfolio_returns[\"Portfolio Performance\"].iloc[-2]))"
   ]
  },
  {
   "cell_type": "code",
   "execution_count": 36,
   "metadata": {},
   "outputs": [
    {
     "name": "stdout",
     "output_type": "stream",
     "text": [
      "In Sample Testing: \n",
      "Mean monthly portfoliio return was 0.04721724018468116%\n",
      "The annual return for our potfolio was 0.566606882216174%\n",
      "The annual volatility of our returns was 0.10526518652555154\n",
      "The Sharpe Ratio was 5.146116205139509\n"
     ]
    }
   ],
   "source": [
    "# In Sample Reporting \n",
    "\n",
    "average_monthly_return_in_sample = portfolio_returns[\"Portfolio Performance\"].mean() \n",
    "expected_return_in_sample = average_monthly_return_in_sample * 12 \n",
    "\n",
    "monthly_standard_dev_in_sample = portfolio_returns[\"Portfolio Performance\"].std() \n",
    "volatility_in_sample = monthly_standard_dev_in_sample * 12**(1/2)\n",
    "\n",
    "sharpe_ratio_in_sample = (expected_return_in_sample - rf)/ volatility_in_sample\n",
    "\n",
    "print(\"In Sample Testing: \")\n",
    "print(\"Mean monthly portfolio return was {}%\".format(average_monthly_return_in_sample))\n",
    "print(\"The annual return for our potfolio was {}%\".format(expected_return_in_sample))\n",
    "print(\"The annual volatility of our returns was {}\".format(volatility_in_sample))\n",
    "print(\"The Sharpe Ratio was {}\".format(sharpe_ratio_in_sample))"
   ]
  },
  {
   "cell_type": "code",
   "execution_count": 18,
   "metadata": {
    "collapsed": true
   },
   "outputs": [],
   "source": [
    "#weights_trade.to_excel(\"In-sample Weights.xlsx\")"
   ]
  },
  {
   "cell_type": "code",
   "execution_count": 19,
   "metadata": {
    "scrolled": true
   },
   "outputs": [
    {
     "data": {
      "text/html": [
       "<div>\n",
       "<style>\n",
       "    .dataframe thead tr:only-child th {\n",
       "        text-align: right;\n",
       "    }\n",
       "\n",
       "    .dataframe thead th {\n",
       "        text-align: left;\n",
       "    }\n",
       "\n",
       "    .dataframe tbody tr th {\n",
       "        vertical-align: top;\n",
       "    }\n",
       "</style>\n",
       "<table border=\"1\" class=\"dataframe\">\n",
       "  <thead>\n",
       "    <tr style=\"text-align: right;\">\n",
       "      <th>ticker</th>\n",
       "      <th>AZO</th>\n",
       "      <th>ODFL</th>\n",
       "      <th>AKRX</th>\n",
       "      <th>SHW</th>\n",
       "      <th>PII</th>\n",
       "      <th>MANH</th>\n",
       "      <th>HAIN</th>\n",
       "      <th>UNP</th>\n",
       "      <th>ALXN</th>\n",
       "      <th>VFC</th>\n",
       "      <th>...</th>\n",
       "      <th>COO</th>\n",
       "      <th>SBUX</th>\n",
       "      <th>FNF</th>\n",
       "      <th>DIS</th>\n",
       "      <th>VZ</th>\n",
       "      <th>T</th>\n",
       "      <th>AMZN</th>\n",
       "      <th>MSFT</th>\n",
       "      <th>NFLX</th>\n",
       "      <th>CBS</th>\n",
       "    </tr>\n",
       "    <tr>\n",
       "      <th>date</th>\n",
       "      <th></th>\n",
       "      <th></th>\n",
       "      <th></th>\n",
       "      <th></th>\n",
       "      <th></th>\n",
       "      <th></th>\n",
       "      <th></th>\n",
       "      <th></th>\n",
       "      <th></th>\n",
       "      <th></th>\n",
       "      <th></th>\n",
       "      <th></th>\n",
       "      <th></th>\n",
       "      <th></th>\n",
       "      <th></th>\n",
       "      <th></th>\n",
       "      <th></th>\n",
       "      <th></th>\n",
       "      <th></th>\n",
       "      <th></th>\n",
       "      <th></th>\n",
       "    </tr>\n",
       "  </thead>\n",
       "  <tbody>\n",
       "    <tr>\n",
       "      <th>2016-12-23</th>\n",
       "      <td>795.82</td>\n",
       "      <td>86.88</td>\n",
       "      <td>21.71</td>\n",
       "      <td>272.30</td>\n",
       "      <td>80.22</td>\n",
       "      <td>53.58</td>\n",
       "      <td>39.34</td>\n",
       "      <td>105.18</td>\n",
       "      <td>127.19</td>\n",
       "      <td>53.30</td>\n",
       "      <td>...</td>\n",
       "      <td>175.43</td>\n",
       "      <td>57.01</td>\n",
       "      <td>24.75303</td>\n",
       "      <td>105.15</td>\n",
       "      <td>53.68</td>\n",
       "      <td>42.73</td>\n",
       "      <td>760.59</td>\n",
       "      <td>63.24</td>\n",
       "      <td>125.59</td>\n",
       "      <td>64.67</td>\n",
       "    </tr>\n",
       "    <tr>\n",
       "      <th>2016-12-27</th>\n",
       "      <td>803.57</td>\n",
       "      <td>87.20</td>\n",
       "      <td>21.48</td>\n",
       "      <td>272.38</td>\n",
       "      <td>80.55</td>\n",
       "      <td>53.97</td>\n",
       "      <td>39.83</td>\n",
       "      <td>105.71</td>\n",
       "      <td>126.06</td>\n",
       "      <td>53.78</td>\n",
       "      <td>...</td>\n",
       "      <td>177.44</td>\n",
       "      <td>56.86</td>\n",
       "      <td>24.84762</td>\n",
       "      <td>105.17</td>\n",
       "      <td>53.64</td>\n",
       "      <td>42.65</td>\n",
       "      <td>771.40</td>\n",
       "      <td>63.28</td>\n",
       "      <td>128.35</td>\n",
       "      <td>64.85</td>\n",
       "    </tr>\n",
       "    <tr>\n",
       "      <th>2016-12-28</th>\n",
       "      <td>795.89</td>\n",
       "      <td>85.68</td>\n",
       "      <td>21.02</td>\n",
       "      <td>270.30</td>\n",
       "      <td>80.82</td>\n",
       "      <td>53.44</td>\n",
       "      <td>39.52</td>\n",
       "      <td>104.76</td>\n",
       "      <td>123.73</td>\n",
       "      <td>53.81</td>\n",
       "      <td>...</td>\n",
       "      <td>175.34</td>\n",
       "      <td>56.35</td>\n",
       "      <td>24.58569</td>\n",
       "      <td>104.30</td>\n",
       "      <td>53.44</td>\n",
       "      <td>42.52</td>\n",
       "      <td>772.13</td>\n",
       "      <td>62.99</td>\n",
       "      <td>125.89</td>\n",
       "      <td>64.50</td>\n",
       "    </tr>\n",
       "    <tr>\n",
       "      <th>2016-12-29</th>\n",
       "      <td>798.49</td>\n",
       "      <td>86.23</td>\n",
       "      <td>21.15</td>\n",
       "      <td>271.13</td>\n",
       "      <td>81.37</td>\n",
       "      <td>53.58</td>\n",
       "      <td>39.59</td>\n",
       "      <td>104.42</td>\n",
       "      <td>123.63</td>\n",
       "      <td>53.63</td>\n",
       "      <td>...</td>\n",
       "      <td>175.49</td>\n",
       "      <td>56.32</td>\n",
       "      <td>24.48382</td>\n",
       "      <td>104.56</td>\n",
       "      <td>53.74</td>\n",
       "      <td>42.66</td>\n",
       "      <td>765.15</td>\n",
       "      <td>62.90</td>\n",
       "      <td>125.33</td>\n",
       "      <td>64.50</td>\n",
       "    </tr>\n",
       "    <tr>\n",
       "      <th>2016-12-30</th>\n",
       "      <td>789.79</td>\n",
       "      <td>85.79</td>\n",
       "      <td>21.83</td>\n",
       "      <td>268.74</td>\n",
       "      <td>82.39</td>\n",
       "      <td>53.03</td>\n",
       "      <td>39.03</td>\n",
       "      <td>103.68</td>\n",
       "      <td>122.35</td>\n",
       "      <td>53.35</td>\n",
       "      <td>...</td>\n",
       "      <td>174.93</td>\n",
       "      <td>55.52</td>\n",
       "      <td>24.70938</td>\n",
       "      <td>104.22</td>\n",
       "      <td>53.38</td>\n",
       "      <td>42.53</td>\n",
       "      <td>749.87</td>\n",
       "      <td>62.14</td>\n",
       "      <td>123.80</td>\n",
       "      <td>63.62</td>\n",
       "    </tr>\n",
       "  </tbody>\n",
       "</table>\n",
       "<p>5 rows × 50 columns</p>\n",
       "</div>"
      ],
      "text/plain": [
       "ticker         AZO   ODFL   AKRX     SHW    PII   MANH   HAIN     UNP    ALXN  \\\n",
       "date                                                                            \n",
       "2016-12-23  795.82  86.88  21.71  272.30  80.22  53.58  39.34  105.18  127.19   \n",
       "2016-12-27  803.57  87.20  21.48  272.38  80.55  53.97  39.83  105.71  126.06   \n",
       "2016-12-28  795.89  85.68  21.02  270.30  80.82  53.44  39.52  104.76  123.73   \n",
       "2016-12-29  798.49  86.23  21.15  271.13  81.37  53.58  39.59  104.42  123.63   \n",
       "2016-12-30  789.79  85.79  21.83  268.74  82.39  53.03  39.03  103.68  122.35   \n",
       "\n",
       "ticker        VFC  ...       COO   SBUX       FNF     DIS     VZ      T  \\\n",
       "date               ...                                                    \n",
       "2016-12-23  53.30  ...    175.43  57.01  24.75303  105.15  53.68  42.73   \n",
       "2016-12-27  53.78  ...    177.44  56.86  24.84762  105.17  53.64  42.65   \n",
       "2016-12-28  53.81  ...    175.34  56.35  24.58569  104.30  53.44  42.52   \n",
       "2016-12-29  53.63  ...    175.49  56.32  24.48382  104.56  53.74  42.66   \n",
       "2016-12-30  53.35  ...    174.93  55.52  24.70938  104.22  53.38  42.53   \n",
       "\n",
       "ticker        AMZN   MSFT    NFLX    CBS  \n",
       "date                                      \n",
       "2016-12-23  760.59  63.24  125.59  64.67  \n",
       "2016-12-27  771.40  63.28  128.35  64.85  \n",
       "2016-12-28  772.13  62.99  125.89  64.50  \n",
       "2016-12-29  765.15  62.90  125.33  64.50  \n",
       "2016-12-30  749.87  62.14  123.80  63.62  \n",
       "\n",
       "[5 rows x 50 columns]"
      ]
     },
     "execution_count": 19,
     "metadata": {},
     "output_type": "execute_result"
    }
   ],
   "source": [
    "# Out of Sample Testing \n",
    "\n",
    "out_sample_all_stock_prices = pd.read_csv('crsp_out_sample_2019spring.csv', parse_dates=['date'])\n",
    "out_sample_all_prices_sorted = out_sample_all_stock_prices.sort_values(['cik','date'])\n",
    "pivoted_out_sample_all = out_sample_all_prices_sorted.pivot(index=\"date\",columns=\"ticker\",values=\"adj_prc\")\n",
    "prices_out = pivoted_out_sample_all[stock_list]\n",
    "prices_out.tail()"
   ]
  },
  {
   "cell_type": "code",
   "execution_count": 20,
   "metadata": {
    "collapsed": true
   },
   "outputs": [],
   "source": [
    "returns_out = np.log(prices_out/prices_out.shift(1))\n",
    "future_returns_out = np.log(prices_out.shift(-1)/prices_out)                            "
   ]
  },
  {
   "cell_type": "code",
   "execution_count": 21,
   "metadata": {
    "collapsed": true
   },
   "outputs": [],
   "source": [
    "roll_mu_out = returns_out.rolling(window=42).mean()*252\n",
    "roll_sigma_out = returns_out.rolling(window=42).cov()*252"
   ]
  },
  {
   "cell_type": "code",
   "execution_count": 22,
   "metadata": {
    "collapsed": true
   },
   "outputs": [],
   "source": [
    "rf_out = 0.0168\n",
    "\n",
    "dates_trade_out = roll_mu_out.index \n",
    "n_trade_out = int(len(roll_mu_out)/rebalance_time)\n",
    "\n",
    "weights_trade_out = np.nan*roll_mu_out \n",
    "portfolio_returns_out = pd.DataFrame(index=dates_trade_out,columns=[\"Portfolio Performance\"]).iloc[::rebalance_time,:]"
   ]
  },
  {
   "cell_type": "code",
   "execution_count": 23,
   "metadata": {
    "collapsed": true
   },
   "outputs": [],
   "source": [
    "for t in range(n_trade_out):\n",
    "    mu_month = roll_mu_out.iloc[t*rebalance_time:(t+1)*rebalance_time].mean() \n",
    "    \n",
    "    # just use the month's last day's covariance matrix since it is a moving average anyways \n",
    "    sigma_month = roll_sigma_out.iloc[(t+1)*rebalance_time*num_assets-num_assets:(t+1)*rebalance_time*num_assets]\n",
    "    \n",
    "    parameter_input=(mu_month,sigma_month,rf_out)\n",
    "    weights_trade_out.iloc[t]=sco.minimize(negative_sharpe,initial_guess,args=parameter_input,bounds=bnds,constraints=cons)['x']\n",
    "    \n",
    "    #future_returns_out_month = future_returns_out.iloc[t*rebalance_time:(t+1)*rebalance_time].cumsum().iloc[-1]\n",
    "    \n",
    "    future_returns_out_month = future_returns_out.iloc[t*rebalance_time:(t+1)*rebalance_time]\n",
    "    cumulative_month_out_return_df = (1+ future_returns_out_month).cumprod() - 1  \n",
    "    cumulative_future_return_out = cumulative_month_out_return_df.iloc[-1]\n",
    "    \n",
    "    portfolio_returns_out.iloc[t]=np.dot(weights_trade_out.iloc[t],cumulative_future_return_out)"
   ]
  },
  {
   "cell_type": "code",
   "execution_count": 27,
   "metadata": {},
   "outputs": [
    {
     "name": "stdout",
     "output_type": "stream",
     "text": [
      "<class 'pandas.core.frame.DataFrame'>\n",
      "DatetimeIndex: 19 entries, 2015-03-05 to 2016-11-01\n",
      "Data columns (total 1 columns):\n",
      "Portfolio Performance    19 non-null object\n",
      "dtypes: object(1)\n",
      "memory usage: 304.0+ bytes\n"
     ]
    },
    {
     "data": {
      "text/html": [
       "<div>\n",
       "<style>\n",
       "    .dataframe thead tr:only-child th {\n",
       "        text-align: right;\n",
       "    }\n",
       "\n",
       "    .dataframe thead th {\n",
       "        text-align: left;\n",
       "    }\n",
       "\n",
       "    .dataframe tbody tr th {\n",
       "        vertical-align: top;\n",
       "    }\n",
       "</style>\n",
       "<table border=\"1\" class=\"dataframe\">\n",
       "  <thead>\n",
       "    <tr style=\"text-align: right;\">\n",
       "      <th></th>\n",
       "      <th>Portfolio Performance</th>\n",
       "    </tr>\n",
       "    <tr>\n",
       "      <th>date</th>\n",
       "      <th></th>\n",
       "    </tr>\n",
       "  </thead>\n",
       "  <tbody>\n",
       "    <tr>\n",
       "      <th>2015-03-05</th>\n",
       "      <td>0.0437553</td>\n",
       "    </tr>\n",
       "    <tr>\n",
       "      <th>2015-04-06</th>\n",
       "      <td>0.021773</td>\n",
       "    </tr>\n",
       "    <tr>\n",
       "      <th>2015-05-05</th>\n",
       "      <td>0.057238</td>\n",
       "    </tr>\n",
       "    <tr>\n",
       "      <th>2015-08-04</th>\n",
       "      <td>-0.0204044</td>\n",
       "    </tr>\n",
       "    <tr>\n",
       "      <th>2015-09-02</th>\n",
       "      <td>0.0433081</td>\n",
       "    </tr>\n",
       "  </tbody>\n",
       "</table>\n",
       "</div>"
      ],
      "text/plain": [
       "           Portfolio Performance\n",
       "date                            \n",
       "2015-03-05             0.0437553\n",
       "2015-04-06              0.021773\n",
       "2015-05-05              0.057238\n",
       "2015-08-04            -0.0204044\n",
       "2015-09-02             0.0433081"
      ]
     },
     "metadata": {},
     "output_type": "display_data"
    },
    {
     "data": {
      "text/html": [
       "<div>\n",
       "<style>\n",
       "    .dataframe thead tr:only-child th {\n",
       "        text-align: right;\n",
       "    }\n",
       "\n",
       "    .dataframe thead th {\n",
       "        text-align: left;\n",
       "    }\n",
       "\n",
       "    .dataframe tbody tr th {\n",
       "        vertical-align: top;\n",
       "    }\n",
       "</style>\n",
       "<table border=\"1\" class=\"dataframe\">\n",
       "  <thead>\n",
       "    <tr style=\"text-align: right;\">\n",
       "      <th></th>\n",
       "      <th>Portfolio Performance</th>\n",
       "    </tr>\n",
       "  </thead>\n",
       "  <tbody>\n",
       "    <tr>\n",
       "      <th>count</th>\n",
       "      <td>19.000000</td>\n",
       "    </tr>\n",
       "    <tr>\n",
       "      <th>unique</th>\n",
       "      <td>19.000000</td>\n",
       "    </tr>\n",
       "    <tr>\n",
       "      <th>top</th>\n",
       "      <td>0.021773</td>\n",
       "    </tr>\n",
       "    <tr>\n",
       "      <th>freq</th>\n",
       "      <td>1.000000</td>\n",
       "    </tr>\n",
       "  </tbody>\n",
       "</table>\n",
       "</div>"
      ],
      "text/plain": [
       "        Portfolio Performance\n",
       "count               19.000000\n",
       "unique              19.000000\n",
       "top                  0.021773\n",
       "freq                 1.000000"
      ]
     },
     "execution_count": 27,
     "metadata": {},
     "output_type": "execute_result"
    },
    {
     "data": {
      "image/png": "[encoded data removed]",
      "text/plain": [
       "<matplotlib.figure.Figure at 0x1c2f21a2ba8>"
      ]
     },
     "metadata": {},
     "output_type": "display_data"
    }
   ],
   "source": [
    "#portfolio_returns_out.cumsum().plot()\n",
    "\n",
    "cumulative_portfolio_returns_out = (1+portfolio_returns_out).cumprod() - 1 \n",
    "cumulative_portfolio_returns_out.plot() \n",
    "\n",
    "portfolio_returns_out.dropna(inplace=True)\n",
    "#portfolio_returns_out['Port_performance']=pd.to_numeric(portfolio_returns_out['Portfolio Performance'])\n",
    "portfolio_returns_out.info()\n",
    "display(portfolio_returns_out.head())\n",
    "portfolio_returns_out.describe()"
   ]
  },
  {
   "cell_type": "code",
   "execution_count": 25,
   "metadata": {},
   "outputs": [
    {
     "name": "stdout",
     "output_type": "stream",
     "text": [
      "Our Portfolio in out of sample testing made 0.9776674414328961x return from beginning of 2015 to end 2016\n"
     ]
    }
   ],
   "source": [
    "print(\"Our Portfolio in out of sample testing made {}x return from beginning of 2015 to end 2016\".format(cumulative_portfolio_returns_out['Portfolio Performance'].iloc[-2]))"
   ]
  },
  {
   "cell_type": "code",
   "execution_count": 35,
   "metadata": {},
   "outputs": [
    {
     "name": "stdout",
     "output_type": "stream",
     "text": [
      "In Out of Sample Testing: \n",
      "Mean monthly portfoliio return was 0.036951315305470016%\n",
      "The annual return for our potfolio was 0.44341578366564016%\n",
      "The annual volatility of our returns was 0.10390138028885174\n",
      "The Sharpe Ratio was 4.079019763620158\n"
     ]
    }
   ],
   "source": [
    "# Reporting for Out of Sample \n",
    "rf_out_of_sample_reporting = 0.0196 \n",
    "\n",
    "average_monthly_return_out_sample = portfolio_returns_out[\"Portfolio Performance\"].mean() \n",
    "expected_return_out_of_sample = average_monthly_return_out_sample * 12 \n",
    "\n",
    "monthly_standard_dev_out_sample = portfolio_returns_out[\"Portfolio Performance\"].std() \n",
    "volatility_out_of_sample = monthly_standard_dev_out_sample * 12**(1/2)\n",
    "\n",
    "sharpe_ratio_out_of_sample = (expected_return_out_of_sample - rf_out_of_sample_reporting)/ volatility_out_of_sample\n",
    "\n",
    "print(\"In Out of Sample Testing: \")\n",
    "print(\"Mean monthly portfolio return was {}%\".format(average_monthly_return_out_sample))\n",
    "print(\"The annual return for our potfolio was {}%\".format(expected_return_out_of_sample))\n",
    "print(\"The annual volatility of our returns was {}\".format(volatility_out_of_sample))\n",
    "print(\"The Sharpe Ratio was {}\".format(sharpe_ratio_out_of_sample))"
   ]
  },
  {
   "cell_type": "code",
   "execution_count": null,
   "metadata": {
    "collapsed": true
   },
   "outputs": [],
   "source": []
  }
 ],
 "metadata": {
  "kernelspec": {
   "display_name": "Python [conda env:tensorflow]",
   "language": "python",
   "name": "conda-env-tensorflow-py"
  },
  "language_info": {
   "codemirror_mode": {
    "name": "ipython",
    "version": 3
   },
   "file_extension": ".py",
   "mimetype": "text/x-python",
   "name": "python",
   "nbconvert_exporter": "python",
   "pygments_lexer": "ipython3",
   "version": "3.5.4"
  }
 },
 "nbformat": 4,
 "nbformat_minor": 2
}
